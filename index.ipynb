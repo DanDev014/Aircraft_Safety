{
 "cells": [
  {
   "cell_type": "markdown",
   "id": "493af535",
   "metadata": {},
   "source": [
    "PROJECT GOALS\n"
   ]
  },
  {
   "cell_type": "markdown",
   "id": "c859bbe7",
   "metadata": {},
   "source": [
    "Safiri Bespoke is the leading tours and travel agency in America. There is need to expand to new markets with Uber introducing helicopter rides in its application in 2026. Safari Bespoke intends to penetrate the airplane markets for commercial and private enterprises.\n",
    "As such, the goal of this project is to determine the aircraft that will pose the least risk to this company in the new business endevour. The recommendations will entail more than one aircraft model as the company intends to operate airplanes for commercial and private enterprises."
   ]
  },
  {
   "cell_type": "markdown",
   "id": "56e176f2",
   "metadata": {},
   "source": [
    "DATA"
   ]
  },
  {
   "cell_type": "markdown",
   "id": "fb130ccc",
   "metadata": {},
   "source": [
    "The dataset used for this project is titled 'AviationData.csv'.\n",
    "The 'Aviation Accident' dataset provides a comprehensive record of aircraft accidents that occurred between the years 1919 and 2023. This dataset captures crucial details of each accident, including the date of the incident, registration number of the aircraft involved, the country where the accident occurred, the specific location, the category of the accident, and the number of fatalities."
   ]
  },
  {
   "cell_type": "markdown",
   "id": "9f15ec05",
   "metadata": {},
   "source": [
    "METHODS"
   ]
  },
  {
   "cell_type": "markdown",
   "id": "65302ac4",
   "metadata": {},
   "source": [
    "This was a straightforward project as the columns were populated with the data I would need to achieve the business objective. However, I had to conduct data cleaning and pre-processing using Pandas. This involved:\n",
    "1. Handling missing values\n",
    "2. Data type conversion\n",
    "3. Standardizing aircraft types\n",
    "4. Filtering relevant timeframe\n",
    "\n",
    "I then proceeded to Exploratory Data Analysis (EDA) by using Pandas, Matplotlib, and Seaborn, to perform exploratory data analysis to uncover patterns and outliers. This way, I determined accident frequency based on the air craft make and model. I also determined the trends in accidents over the years to check how various aircraft companies have performed. Furthermore, I compared the total fatalities for the aircrafts as a way of checking the safety.\n",
    "The last step was visualization and reporting using Tableau. I was able to create interactive dashboards to visualize:\n",
    "1. Top safest aircraft models\n",
    "2. Fatality trends based on the model\n",
    "3. Uninjured passengers based on the aircraft model per accident\n",
    "4. Minor and serious injuries comparison per aircraft model\n",
    "This was then followed by recommendations based on the available data."
   ]
  },
  {
   "cell_type": "markdown",
   "id": "a6f29030",
   "metadata": {},
   "source": [
    "RESULTS"
   ]
  },
  {
   "cell_type": "markdown",
   "id": "29ff6aac",
   "metadata": {},
   "source": [
    "After extensive EDA, Safari Bespoke should settle for the Bell make for private enterprises. Specifically, Bell 206B model ticks most of the checkboxes for safety. The model has been in operation for decades and there has been a decline in the number of accidents since 1980. \n",
    "One engine implies it is less complex model and its long operation history insinuates the failure modes are well documented. Overall, it has less fatalities, less serious injuries and minor injuries.\n",
    "\n",
    "For the commercial aircraft, Safari Bespoke should stick to the Boeing 747 series. Any model in the series ranging from 747-300 to 747-400 is a perfect fit for the business. The data might show higher number of fatalities for the Boeing make but this is mainly caused by earlier models and the large number of Boeing crafts. That withstanding, the 747 series stands out for the safety metric.\n",
    "\n",
    "The last result from the analysis is that most accidents occur durig VMC conditions. These are considered to be safer conditions but also involve higher volume of airpolanes. IFR conditions on the other hand seem to have less fatal accidents. I expected inverse results but there is an explanation for this phenomenon."
   ]
  },
  {
   "cell_type": "code",
   "execution_count": 1,
   "id": "d87da58d",
   "metadata": {},
   "outputs": [],
   "source": [
    "#Importing necessary libraries\n",
    "import pandas as pd\n",
    "import numpy as np"
   ]
  },
  {
   "cell_type": "code",
   "execution_count": 2,
   "id": "e5d750cf",
   "metadata": {},
   "outputs": [
    {
     "name": "stderr",
     "output_type": "stream",
     "text": [
      "c:\\Users\\Administrator\\anaconda3\\envs\\learn-env\\lib\\site-packages\\IPython\\core\\interactiveshell.py:3145: DtypeWarning: Columns (6,7,28) have mixed types.Specify dtype option on import or set low_memory=False.\n",
      "  has_raised = await self.run_ast_nodes(code_ast.body, cell_name,\n"
     ]
    },
    {
     "data": {
      "text/html": [
       "<div>\n",
       "<style scoped>\n",
       "    .dataframe tbody tr th:only-of-type {\n",
       "        vertical-align: middle;\n",
       "    }\n",
       "\n",
       "    .dataframe tbody tr th {\n",
       "        vertical-align: top;\n",
       "    }\n",
       "\n",
       "    .dataframe thead th {\n",
       "        text-align: right;\n",
       "    }\n",
       "</style>\n",
       "<table border=\"1\" class=\"dataframe\">\n",
       "  <thead>\n",
       "    <tr style=\"text-align: right;\">\n",
       "      <th></th>\n",
       "      <th>Investigation.Type</th>\n",
       "      <th>Accident.Number</th>\n",
       "      <th>Event.Date</th>\n",
       "      <th>Location</th>\n",
       "      <th>Country</th>\n",
       "      <th>Latitude</th>\n",
       "      <th>Longitude</th>\n",
       "      <th>Airport.Code</th>\n",
       "      <th>Airport.Name</th>\n",
       "      <th>Injury.Severity</th>\n",
       "      <th>...</th>\n",
       "      <th>Purpose.of.flight</th>\n",
       "      <th>Air.carrier</th>\n",
       "      <th>Total.Fatal.Injuries</th>\n",
       "      <th>Total.Serious.Injuries</th>\n",
       "      <th>Total.Minor.Injuries</th>\n",
       "      <th>Total.Uninjured</th>\n",
       "      <th>Weather.Condition</th>\n",
       "      <th>Broad.phase.of.flight</th>\n",
       "      <th>Report.Status</th>\n",
       "      <th>Publication.Date</th>\n",
       "    </tr>\n",
       "    <tr>\n",
       "      <th>Event.Id</th>\n",
       "      <th></th>\n",
       "      <th></th>\n",
       "      <th></th>\n",
       "      <th></th>\n",
       "      <th></th>\n",
       "      <th></th>\n",
       "      <th></th>\n",
       "      <th></th>\n",
       "      <th></th>\n",
       "      <th></th>\n",
       "      <th></th>\n",
       "      <th></th>\n",
       "      <th></th>\n",
       "      <th></th>\n",
       "      <th></th>\n",
       "      <th></th>\n",
       "      <th></th>\n",
       "      <th></th>\n",
       "      <th></th>\n",
       "      <th></th>\n",
       "      <th></th>\n",
       "    </tr>\n",
       "  </thead>\n",
       "  <tbody>\n",
       "    <tr>\n",
       "      <th>20001218X45444</th>\n",
       "      <td>Accident</td>\n",
       "      <td>SEA87LA080</td>\n",
       "      <td>1948-10-24</td>\n",
       "      <td>MOOSE CREEK, ID</td>\n",
       "      <td>United States</td>\n",
       "      <td>NaN</td>\n",
       "      <td>NaN</td>\n",
       "      <td>NaN</td>\n",
       "      <td>NaN</td>\n",
       "      <td>Fatal(2)</td>\n",
       "      <td>...</td>\n",
       "      <td>Personal</td>\n",
       "      <td>NaN</td>\n",
       "      <td>2.0</td>\n",
       "      <td>0.0</td>\n",
       "      <td>0.0</td>\n",
       "      <td>0.0</td>\n",
       "      <td>UNK</td>\n",
       "      <td>Cruise</td>\n",
       "      <td>Probable Cause</td>\n",
       "      <td>NaN</td>\n",
       "    </tr>\n",
       "    <tr>\n",
       "      <th>20001218X45447</th>\n",
       "      <td>Accident</td>\n",
       "      <td>LAX94LA336</td>\n",
       "      <td>1962-07-19</td>\n",
       "      <td>BRIDGEPORT, CA</td>\n",
       "      <td>United States</td>\n",
       "      <td>NaN</td>\n",
       "      <td>NaN</td>\n",
       "      <td>NaN</td>\n",
       "      <td>NaN</td>\n",
       "      <td>Fatal(4)</td>\n",
       "      <td>...</td>\n",
       "      <td>Personal</td>\n",
       "      <td>NaN</td>\n",
       "      <td>4.0</td>\n",
       "      <td>0.0</td>\n",
       "      <td>0.0</td>\n",
       "      <td>0.0</td>\n",
       "      <td>UNK</td>\n",
       "      <td>Unknown</td>\n",
       "      <td>Probable Cause</td>\n",
       "      <td>19-09-1996</td>\n",
       "    </tr>\n",
       "    <tr>\n",
       "      <th>20061025X01555</th>\n",
       "      <td>Accident</td>\n",
       "      <td>NYC07LA005</td>\n",
       "      <td>1974-08-30</td>\n",
       "      <td>Saltville, VA</td>\n",
       "      <td>United States</td>\n",
       "      <td>36.9222</td>\n",
       "      <td>-81.8781</td>\n",
       "      <td>NaN</td>\n",
       "      <td>NaN</td>\n",
       "      <td>Fatal(3)</td>\n",
       "      <td>...</td>\n",
       "      <td>Personal</td>\n",
       "      <td>NaN</td>\n",
       "      <td>3.0</td>\n",
       "      <td>NaN</td>\n",
       "      <td>NaN</td>\n",
       "      <td>NaN</td>\n",
       "      <td>IMC</td>\n",
       "      <td>Cruise</td>\n",
       "      <td>Probable Cause</td>\n",
       "      <td>26-02-2007</td>\n",
       "    </tr>\n",
       "    <tr>\n",
       "      <th>20001218X45448</th>\n",
       "      <td>Accident</td>\n",
       "      <td>LAX96LA321</td>\n",
       "      <td>1977-06-19</td>\n",
       "      <td>EUREKA, CA</td>\n",
       "      <td>United States</td>\n",
       "      <td>NaN</td>\n",
       "      <td>NaN</td>\n",
       "      <td>NaN</td>\n",
       "      <td>NaN</td>\n",
       "      <td>Fatal(2)</td>\n",
       "      <td>...</td>\n",
       "      <td>Personal</td>\n",
       "      <td>NaN</td>\n",
       "      <td>2.0</td>\n",
       "      <td>0.0</td>\n",
       "      <td>0.0</td>\n",
       "      <td>0.0</td>\n",
       "      <td>IMC</td>\n",
       "      <td>Cruise</td>\n",
       "      <td>Probable Cause</td>\n",
       "      <td>12-09-2000</td>\n",
       "    </tr>\n",
       "    <tr>\n",
       "      <th>20041105X01764</th>\n",
       "      <td>Accident</td>\n",
       "      <td>CHI79FA064</td>\n",
       "      <td>1979-08-02</td>\n",
       "      <td>Canton, OH</td>\n",
       "      <td>United States</td>\n",
       "      <td>NaN</td>\n",
       "      <td>NaN</td>\n",
       "      <td>NaN</td>\n",
       "      <td>NaN</td>\n",
       "      <td>Fatal(1)</td>\n",
       "      <td>...</td>\n",
       "      <td>Personal</td>\n",
       "      <td>NaN</td>\n",
       "      <td>1.0</td>\n",
       "      <td>2.0</td>\n",
       "      <td>NaN</td>\n",
       "      <td>0.0</td>\n",
       "      <td>VMC</td>\n",
       "      <td>Approach</td>\n",
       "      <td>Probable Cause</td>\n",
       "      <td>16-04-1980</td>\n",
       "    </tr>\n",
       "    <tr>\n",
       "      <th>...</th>\n",
       "      <td>...</td>\n",
       "      <td>...</td>\n",
       "      <td>...</td>\n",
       "      <td>...</td>\n",
       "      <td>...</td>\n",
       "      <td>...</td>\n",
       "      <td>...</td>\n",
       "      <td>...</td>\n",
       "      <td>...</td>\n",
       "      <td>...</td>\n",
       "      <td>...</td>\n",
       "      <td>...</td>\n",
       "      <td>...</td>\n",
       "      <td>...</td>\n",
       "      <td>...</td>\n",
       "      <td>...</td>\n",
       "      <td>...</td>\n",
       "      <td>...</td>\n",
       "      <td>...</td>\n",
       "      <td>...</td>\n",
       "      <td>...</td>\n",
       "    </tr>\n",
       "    <tr>\n",
       "      <th>20221227106491</th>\n",
       "      <td>Accident</td>\n",
       "      <td>ERA23LA093</td>\n",
       "      <td>2022-12-26</td>\n",
       "      <td>Annapolis, MD</td>\n",
       "      <td>United States</td>\n",
       "      <td>NaN</td>\n",
       "      <td>NaN</td>\n",
       "      <td>NaN</td>\n",
       "      <td>NaN</td>\n",
       "      <td>Minor</td>\n",
       "      <td>...</td>\n",
       "      <td>Personal</td>\n",
       "      <td>NaN</td>\n",
       "      <td>0.0</td>\n",
       "      <td>1.0</td>\n",
       "      <td>0.0</td>\n",
       "      <td>0.0</td>\n",
       "      <td>NaN</td>\n",
       "      <td>NaN</td>\n",
       "      <td>NaN</td>\n",
       "      <td>29-12-2022</td>\n",
       "    </tr>\n",
       "    <tr>\n",
       "      <th>20221227106494</th>\n",
       "      <td>Accident</td>\n",
       "      <td>ERA23LA095</td>\n",
       "      <td>2022-12-26</td>\n",
       "      <td>Hampton, NH</td>\n",
       "      <td>United States</td>\n",
       "      <td>NaN</td>\n",
       "      <td>NaN</td>\n",
       "      <td>NaN</td>\n",
       "      <td>NaN</td>\n",
       "      <td>NaN</td>\n",
       "      <td>...</td>\n",
       "      <td>NaN</td>\n",
       "      <td>NaN</td>\n",
       "      <td>0.0</td>\n",
       "      <td>0.0</td>\n",
       "      <td>0.0</td>\n",
       "      <td>0.0</td>\n",
       "      <td>NaN</td>\n",
       "      <td>NaN</td>\n",
       "      <td>NaN</td>\n",
       "      <td>NaN</td>\n",
       "    </tr>\n",
       "    <tr>\n",
       "      <th>20221227106497</th>\n",
       "      <td>Accident</td>\n",
       "      <td>WPR23LA075</td>\n",
       "      <td>2022-12-26</td>\n",
       "      <td>Payson, AZ</td>\n",
       "      <td>United States</td>\n",
       "      <td>341525N</td>\n",
       "      <td>1112021W</td>\n",
       "      <td>PAN</td>\n",
       "      <td>PAYSON</td>\n",
       "      <td>Non-Fatal</td>\n",
       "      <td>...</td>\n",
       "      <td>Personal</td>\n",
       "      <td>NaN</td>\n",
       "      <td>0.0</td>\n",
       "      <td>0.0</td>\n",
       "      <td>0.0</td>\n",
       "      <td>1.0</td>\n",
       "      <td>VMC</td>\n",
       "      <td>NaN</td>\n",
       "      <td>NaN</td>\n",
       "      <td>27-12-2022</td>\n",
       "    </tr>\n",
       "    <tr>\n",
       "      <th>20221227106498</th>\n",
       "      <td>Accident</td>\n",
       "      <td>WPR23LA076</td>\n",
       "      <td>2022-12-26</td>\n",
       "      <td>Morgan, UT</td>\n",
       "      <td>United States</td>\n",
       "      <td>NaN</td>\n",
       "      <td>NaN</td>\n",
       "      <td>NaN</td>\n",
       "      <td>NaN</td>\n",
       "      <td>NaN</td>\n",
       "      <td>...</td>\n",
       "      <td>Personal</td>\n",
       "      <td>MC CESSNA 210N LLC</td>\n",
       "      <td>0.0</td>\n",
       "      <td>0.0</td>\n",
       "      <td>0.0</td>\n",
       "      <td>0.0</td>\n",
       "      <td>NaN</td>\n",
       "      <td>NaN</td>\n",
       "      <td>NaN</td>\n",
       "      <td>NaN</td>\n",
       "    </tr>\n",
       "    <tr>\n",
       "      <th>20221230106513</th>\n",
       "      <td>Accident</td>\n",
       "      <td>ERA23LA097</td>\n",
       "      <td>2022-12-29</td>\n",
       "      <td>Athens, GA</td>\n",
       "      <td>United States</td>\n",
       "      <td>NaN</td>\n",
       "      <td>NaN</td>\n",
       "      <td>NaN</td>\n",
       "      <td>NaN</td>\n",
       "      <td>Minor</td>\n",
       "      <td>...</td>\n",
       "      <td>Personal</td>\n",
       "      <td>NaN</td>\n",
       "      <td>0.0</td>\n",
       "      <td>1.0</td>\n",
       "      <td>0.0</td>\n",
       "      <td>1.0</td>\n",
       "      <td>NaN</td>\n",
       "      <td>NaN</td>\n",
       "      <td>NaN</td>\n",
       "      <td>30-12-2022</td>\n",
       "    </tr>\n",
       "  </tbody>\n",
       "</table>\n",
       "<p>88889 rows × 30 columns</p>\n",
       "</div>"
      ],
      "text/plain": [
       "               Investigation.Type Accident.Number  Event.Date  \\\n",
       "Event.Id                                                        \n",
       "20001218X45444           Accident      SEA87LA080  1948-10-24   \n",
       "20001218X45447           Accident      LAX94LA336  1962-07-19   \n",
       "20061025X01555           Accident      NYC07LA005  1974-08-30   \n",
       "20001218X45448           Accident      LAX96LA321  1977-06-19   \n",
       "20041105X01764           Accident      CHI79FA064  1979-08-02   \n",
       "...                           ...             ...         ...   \n",
       "20221227106491           Accident      ERA23LA093  2022-12-26   \n",
       "20221227106494           Accident      ERA23LA095  2022-12-26   \n",
       "20221227106497           Accident      WPR23LA075  2022-12-26   \n",
       "20221227106498           Accident      WPR23LA076  2022-12-26   \n",
       "20221230106513           Accident      ERA23LA097  2022-12-29   \n",
       "\n",
       "                       Location        Country Latitude Longitude  \\\n",
       "Event.Id                                                            \n",
       "20001218X45444  MOOSE CREEK, ID  United States      NaN       NaN   \n",
       "20001218X45447   BRIDGEPORT, CA  United States      NaN       NaN   \n",
       "20061025X01555    Saltville, VA  United States  36.9222  -81.8781   \n",
       "20001218X45448       EUREKA, CA  United States      NaN       NaN   \n",
       "20041105X01764       Canton, OH  United States      NaN       NaN   \n",
       "...                         ...            ...      ...       ...   \n",
       "20221227106491    Annapolis, MD  United States      NaN       NaN   \n",
       "20221227106494      Hampton, NH  United States      NaN       NaN   \n",
       "20221227106497       Payson, AZ  United States  341525N  1112021W   \n",
       "20221227106498       Morgan, UT  United States      NaN       NaN   \n",
       "20221230106513       Athens, GA  United States      NaN       NaN   \n",
       "\n",
       "               Airport.Code Airport.Name Injury.Severity  ...  \\\n",
       "Event.Id                                                  ...   \n",
       "20001218X45444          NaN          NaN        Fatal(2)  ...   \n",
       "20001218X45447          NaN          NaN        Fatal(4)  ...   \n",
       "20061025X01555          NaN          NaN        Fatal(3)  ...   \n",
       "20001218X45448          NaN          NaN        Fatal(2)  ...   \n",
       "20041105X01764          NaN          NaN        Fatal(1)  ...   \n",
       "...                     ...          ...             ...  ...   \n",
       "20221227106491          NaN          NaN           Minor  ...   \n",
       "20221227106494          NaN          NaN             NaN  ...   \n",
       "20221227106497          PAN       PAYSON       Non-Fatal  ...   \n",
       "20221227106498          NaN          NaN             NaN  ...   \n",
       "20221230106513          NaN          NaN           Minor  ...   \n",
       "\n",
       "               Purpose.of.flight         Air.carrier Total.Fatal.Injuries  \\\n",
       "Event.Id                                                                    \n",
       "20001218X45444          Personal                 NaN                  2.0   \n",
       "20001218X45447          Personal                 NaN                  4.0   \n",
       "20061025X01555          Personal                 NaN                  3.0   \n",
       "20001218X45448          Personal                 NaN                  2.0   \n",
       "20041105X01764          Personal                 NaN                  1.0   \n",
       "...                          ...                 ...                  ...   \n",
       "20221227106491          Personal                 NaN                  0.0   \n",
       "20221227106494               NaN                 NaN                  0.0   \n",
       "20221227106497          Personal                 NaN                  0.0   \n",
       "20221227106498          Personal  MC CESSNA 210N LLC                  0.0   \n",
       "20221230106513          Personal                 NaN                  0.0   \n",
       "\n",
       "               Total.Serious.Injuries Total.Minor.Injuries Total.Uninjured  \\\n",
       "Event.Id                                                                     \n",
       "20001218X45444                    0.0                  0.0             0.0   \n",
       "20001218X45447                    0.0                  0.0             0.0   \n",
       "20061025X01555                    NaN                  NaN             NaN   \n",
       "20001218X45448                    0.0                  0.0             0.0   \n",
       "20041105X01764                    2.0                  NaN             0.0   \n",
       "...                               ...                  ...             ...   \n",
       "20221227106491                    1.0                  0.0             0.0   \n",
       "20221227106494                    0.0                  0.0             0.0   \n",
       "20221227106497                    0.0                  0.0             1.0   \n",
       "20221227106498                    0.0                  0.0             0.0   \n",
       "20221230106513                    1.0                  0.0             1.0   \n",
       "\n",
       "                Weather.Condition Broad.phase.of.flight   Report.Status  \\\n",
       "Event.Id                                                                  \n",
       "20001218X45444                UNK                Cruise  Probable Cause   \n",
       "20001218X45447                UNK               Unknown  Probable Cause   \n",
       "20061025X01555                IMC                Cruise  Probable Cause   \n",
       "20001218X45448                IMC                Cruise  Probable Cause   \n",
       "20041105X01764                VMC              Approach  Probable Cause   \n",
       "...                           ...                   ...             ...   \n",
       "20221227106491                NaN                   NaN             NaN   \n",
       "20221227106494                NaN                   NaN             NaN   \n",
       "20221227106497                VMC                   NaN             NaN   \n",
       "20221227106498                NaN                   NaN             NaN   \n",
       "20221230106513                NaN                   NaN             NaN   \n",
       "\n",
       "               Publication.Date  \n",
       "Event.Id                         \n",
       "20001218X45444              NaN  \n",
       "20001218X45447       19-09-1996  \n",
       "20061025X01555       26-02-2007  \n",
       "20001218X45448       12-09-2000  \n",
       "20041105X01764       16-04-1980  \n",
       "...                         ...  \n",
       "20221227106491       29-12-2022  \n",
       "20221227106494              NaN  \n",
       "20221227106497       27-12-2022  \n",
       "20221227106498              NaN  \n",
       "20221230106513       30-12-2022  \n",
       "\n",
       "[88889 rows x 30 columns]"
      ]
     },
     "execution_count": 2,
     "metadata": {},
     "output_type": "execute_result"
    }
   ],
   "source": [
    "#Loading the dataset\n",
    "df = pd.read_csv('AviationData.csv', encoding= 'cp1252', index_col=0)\n",
    "df"
   ]
  },
  {
   "cell_type": "code",
   "execution_count": 3,
   "id": "31b136b7",
   "metadata": {},
   "outputs": [
    {
     "name": "stdout",
     "output_type": "stream",
     "text": [
      "<class 'pandas.core.frame.DataFrame'>\n",
      "Index: 88889 entries, 20001218X45444 to 20221230106513\n",
      "Data columns (total 30 columns):\n",
      " #   Column                  Non-Null Count  Dtype  \n",
      "---  ------                  --------------  -----  \n",
      " 0   Investigation.Type      88889 non-null  object \n",
      " 1   Accident.Number         88889 non-null  object \n",
      " 2   Event.Date              88889 non-null  object \n",
      " 3   Location                88837 non-null  object \n",
      " 4   Country                 88663 non-null  object \n",
      " 5   Latitude                34382 non-null  object \n",
      " 6   Longitude               34373 non-null  object \n",
      " 7   Airport.Code            50249 non-null  object \n",
      " 8   Airport.Name            52790 non-null  object \n",
      " 9   Injury.Severity         87889 non-null  object \n",
      " 10  Aircraft.damage         85695 non-null  object \n",
      " 11  Aircraft.Category       32287 non-null  object \n",
      " 12  Registration.Number     87572 non-null  object \n",
      " 13  Make                    88826 non-null  object \n",
      " 14  Model                   88797 non-null  object \n",
      " 15  Amateur.Built           88787 non-null  object \n",
      " 16  Number.of.Engines       82805 non-null  float64\n",
      " 17  Engine.Type             81812 non-null  object \n",
      " 18  FAR.Description         32023 non-null  object \n",
      " 19  Schedule                12582 non-null  object \n",
      " 20  Purpose.of.flight       82697 non-null  object \n",
      " 21  Air.carrier             16648 non-null  object \n",
      " 22  Total.Fatal.Injuries    77488 non-null  float64\n",
      " 23  Total.Serious.Injuries  76379 non-null  float64\n",
      " 24  Total.Minor.Injuries    76956 non-null  float64\n",
      " 25  Total.Uninjured         82977 non-null  float64\n",
      " 26  Weather.Condition       84397 non-null  object \n",
      " 27  Broad.phase.of.flight   61724 non-null  object \n",
      " 28  Report.Status           82508 non-null  object \n",
      " 29  Publication.Date        75118 non-null  object \n",
      "dtypes: float64(5), object(25)\n",
      "memory usage: 21.0+ MB\n"
     ]
    }
   ],
   "source": [
    "#Getting basic information about the dataset\n",
    "df.info()"
   ]
  },
  {
   "cell_type": "code",
   "execution_count": 4,
   "id": "a332e6d1",
   "metadata": {},
   "outputs": [
    {
     "data": {
      "text/plain": [
       "(88889, 30)"
      ]
     },
     "execution_count": 4,
     "metadata": {},
     "output_type": "execute_result"
    }
   ],
   "source": [
    "#Checking the shape of the dataset\n",
    "df.shape"
   ]
  },
  {
   "cell_type": "code",
   "execution_count": 5,
   "id": "85e6e197",
   "metadata": {},
   "outputs": [
    {
     "data": {
      "text/plain": [
       "(88889, 30)"
      ]
     },
     "execution_count": 5,
     "metadata": {},
     "output_type": "execute_result"
    }
   ],
   "source": [
    "# Drop Rows where all values are missing\n",
    "df.dropna(how='all')\n",
    "df.shape"
   ]
  },
  {
   "cell_type": "code",
   "execution_count": 6,
   "id": "bceb4450",
   "metadata": {},
   "outputs": [
    {
     "name": "stdout",
     "output_type": "stream",
     "text": [
      "<class 'pandas.core.frame.DataFrame'>\n",
      "Index: 88889 entries, 20001218X45444 to 20221230106513\n",
      "Data columns (total 30 columns):\n",
      " #   Column                  Non-Null Count  Dtype  \n",
      "---  ------                  --------------  -----  \n",
      " 0   Investigation.Type      88889 non-null  object \n",
      " 1   Accident.Number         88889 non-null  object \n",
      " 2   Event.Date              88889 non-null  object \n",
      " 3   Location                88837 non-null  object \n",
      " 4   Country                 88663 non-null  object \n",
      " 5   Latitude                34382 non-null  object \n",
      " 6   Longitude               34373 non-null  object \n",
      " 7   Airport.Code            50249 non-null  object \n",
      " 8   Airport.Name            52790 non-null  object \n",
      " 9   Injury.Severity         87889 non-null  object \n",
      " 10  Aircraft.damage         85695 non-null  object \n",
      " 11  Aircraft.Category       32287 non-null  object \n",
      " 12  Registration.Number     87572 non-null  object \n",
      " 13  Make                    88826 non-null  object \n",
      " 14  Model                   88797 non-null  object \n",
      " 15  Amateur.Built           88787 non-null  object \n",
      " 16  Number.of.Engines       82805 non-null  float64\n",
      " 17  Engine.Type             81812 non-null  object \n",
      " 18  FAR.Description         32023 non-null  object \n",
      " 19  Schedule                12582 non-null  object \n",
      " 20  Purpose.of.flight       82697 non-null  object \n",
      " 21  Air.carrier             16648 non-null  object \n",
      " 22  Total.Fatal.Injuries    77488 non-null  float64\n",
      " 23  Total.Serious.Injuries  76379 non-null  float64\n",
      " 24  Total.Minor.Injuries    76956 non-null  float64\n",
      " 25  Total.Uninjured         82977 non-null  float64\n",
      " 26  Weather.Condition       84397 non-null  object \n",
      " 27  Broad.phase.of.flight   61724 non-null  object \n",
      " 28  Report.Status           82508 non-null  object \n",
      " 29  Publication.Date        75118 non-null  object \n",
      "dtypes: float64(5), object(25)\n",
      "memory usage: 21.0+ MB\n"
     ]
    }
   ],
   "source": [
    "#Getting basic information about the dataset\n",
    "df.info()"
   ]
  },
  {
   "cell_type": "code",
   "execution_count": 7,
   "id": "cb450020",
   "metadata": {},
   "outputs": [
    {
     "data": {
      "text/plain": [
       "Investigation.Type            0\n",
       "Accident.Number               0\n",
       "Event.Date                    0\n",
       "Location                     52\n",
       "Country                     226\n",
       "Latitude                  54507\n",
       "Longitude                 54516\n",
       "Airport.Code              38640\n",
       "Airport.Name              36099\n",
       "Injury.Severity            1000\n",
       "Aircraft.damage            3194\n",
       "Aircraft.Category         56602\n",
       "Registration.Number        1317\n",
       "Make                         63\n",
       "Model                        92\n",
       "Amateur.Built               102\n",
       "Number.of.Engines          6084\n",
       "Engine.Type                7077\n",
       "FAR.Description           56866\n",
       "Schedule                  76307\n",
       "Purpose.of.flight          6192\n",
       "Air.carrier               72241\n",
       "Total.Fatal.Injuries      11401\n",
       "Total.Serious.Injuries    12510\n",
       "Total.Minor.Injuries      11933\n",
       "Total.Uninjured            5912\n",
       "Weather.Condition          4492\n",
       "Broad.phase.of.flight     27165\n",
       "Report.Status              6381\n",
       "Publication.Date          13771\n",
       "dtype: int64"
      ]
     },
     "execution_count": 7,
     "metadata": {},
     "output_type": "execute_result"
    }
   ],
   "source": [
    "#Checking for missing values\n",
    "df.isna().sum()"
   ]
  },
  {
   "cell_type": "code",
   "execution_count": 8,
   "id": "8d04754c",
   "metadata": {},
   "outputs": [
    {
     "data": {
      "text/html": [
       "<div>\n",
       "<style scoped>\n",
       "    .dataframe tbody tr th:only-of-type {\n",
       "        vertical-align: middle;\n",
       "    }\n",
       "\n",
       "    .dataframe tbody tr th {\n",
       "        vertical-align: top;\n",
       "    }\n",
       "\n",
       "    .dataframe thead th {\n",
       "        text-align: right;\n",
       "    }\n",
       "</style>\n",
       "<table border=\"1\" class=\"dataframe\">\n",
       "  <thead>\n",
       "    <tr style=\"text-align: right;\">\n",
       "      <th></th>\n",
       "      <th>Investigation.Type</th>\n",
       "      <th>Accident.Number</th>\n",
       "      <th>Event.Date</th>\n",
       "      <th>Location</th>\n",
       "      <th>Country</th>\n",
       "      <th>Latitude</th>\n",
       "      <th>Longitude</th>\n",
       "      <th>Airport.Code</th>\n",
       "      <th>Airport.Name</th>\n",
       "      <th>Injury.Severity</th>\n",
       "      <th>...</th>\n",
       "      <th>Purpose.of.flight</th>\n",
       "      <th>Air.carrier</th>\n",
       "      <th>Total.Fatal.Injuries</th>\n",
       "      <th>Total.Serious.Injuries</th>\n",
       "      <th>Total.Minor.Injuries</th>\n",
       "      <th>Total.Uninjured</th>\n",
       "      <th>Weather.Condition</th>\n",
       "      <th>Broad.phase.of.flight</th>\n",
       "      <th>Report.Status</th>\n",
       "      <th>Publication.Date</th>\n",
       "    </tr>\n",
       "    <tr>\n",
       "      <th>Event.Id</th>\n",
       "      <th></th>\n",
       "      <th></th>\n",
       "      <th></th>\n",
       "      <th></th>\n",
       "      <th></th>\n",
       "      <th></th>\n",
       "      <th></th>\n",
       "      <th></th>\n",
       "      <th></th>\n",
       "      <th></th>\n",
       "      <th></th>\n",
       "      <th></th>\n",
       "      <th></th>\n",
       "      <th></th>\n",
       "      <th></th>\n",
       "      <th></th>\n",
       "      <th></th>\n",
       "      <th></th>\n",
       "      <th></th>\n",
       "      <th></th>\n",
       "      <th></th>\n",
       "    </tr>\n",
       "  </thead>\n",
       "  <tbody>\n",
       "    <tr>\n",
       "      <th>20001218X45444</th>\n",
       "      <td>Accident</td>\n",
       "      <td>SEA87LA080</td>\n",
       "      <td>1948-10-24</td>\n",
       "      <td>MOOSE CREEK, ID</td>\n",
       "      <td>United States</td>\n",
       "      <td>NaN</td>\n",
       "      <td>NaN</td>\n",
       "      <td>NaN</td>\n",
       "      <td>NaN</td>\n",
       "      <td>Fatal(2)</td>\n",
       "      <td>...</td>\n",
       "      <td>Personal</td>\n",
       "      <td>NaN</td>\n",
       "      <td>2.0</td>\n",
       "      <td>0.0</td>\n",
       "      <td>0.0</td>\n",
       "      <td>0.0</td>\n",
       "      <td>UNK</td>\n",
       "      <td>Cruise</td>\n",
       "      <td>Probable Cause</td>\n",
       "      <td>NaN</td>\n",
       "    </tr>\n",
       "    <tr>\n",
       "      <th>20001218X45447</th>\n",
       "      <td>Accident</td>\n",
       "      <td>LAX94LA336</td>\n",
       "      <td>1962-07-19</td>\n",
       "      <td>BRIDGEPORT, CA</td>\n",
       "      <td>United States</td>\n",
       "      <td>NaN</td>\n",
       "      <td>NaN</td>\n",
       "      <td>NaN</td>\n",
       "      <td>NaN</td>\n",
       "      <td>Fatal(4)</td>\n",
       "      <td>...</td>\n",
       "      <td>Personal</td>\n",
       "      <td>NaN</td>\n",
       "      <td>4.0</td>\n",
       "      <td>0.0</td>\n",
       "      <td>0.0</td>\n",
       "      <td>0.0</td>\n",
       "      <td>UNK</td>\n",
       "      <td>Unknown</td>\n",
       "      <td>Probable Cause</td>\n",
       "      <td>19-09-1996</td>\n",
       "    </tr>\n",
       "  </tbody>\n",
       "</table>\n",
       "<p>2 rows × 30 columns</p>\n",
       "</div>"
      ],
      "text/plain": [
       "               Investigation.Type Accident.Number  Event.Date  \\\n",
       "Event.Id                                                        \n",
       "20001218X45444           Accident      SEA87LA080  1948-10-24   \n",
       "20001218X45447           Accident      LAX94LA336  1962-07-19   \n",
       "\n",
       "                       Location        Country Latitude Longitude  \\\n",
       "Event.Id                                                            \n",
       "20001218X45444  MOOSE CREEK, ID  United States      NaN       NaN   \n",
       "20001218X45447   BRIDGEPORT, CA  United States      NaN       NaN   \n",
       "\n",
       "               Airport.Code Airport.Name Injury.Severity  ...  \\\n",
       "Event.Id                                                  ...   \n",
       "20001218X45444          NaN          NaN        Fatal(2)  ...   \n",
       "20001218X45447          NaN          NaN        Fatal(4)  ...   \n",
       "\n",
       "               Purpose.of.flight Air.carrier Total.Fatal.Injuries  \\\n",
       "Event.Id                                                            \n",
       "20001218X45444          Personal         NaN                  2.0   \n",
       "20001218X45447          Personal         NaN                  4.0   \n",
       "\n",
       "               Total.Serious.Injuries Total.Minor.Injuries Total.Uninjured  \\\n",
       "Event.Id                                                                     \n",
       "20001218X45444                    0.0                  0.0             0.0   \n",
       "20001218X45447                    0.0                  0.0             0.0   \n",
       "\n",
       "                Weather.Condition Broad.phase.of.flight   Report.Status  \\\n",
       "Event.Id                                                                  \n",
       "20001218X45444                UNK                Cruise  Probable Cause   \n",
       "20001218X45447                UNK               Unknown  Probable Cause   \n",
       "\n",
       "               Publication.Date  \n",
       "Event.Id                         \n",
       "20001218X45444              NaN  \n",
       "20001218X45447       19-09-1996  \n",
       "\n",
       "[2 rows x 30 columns]"
      ]
     },
     "execution_count": 8,
     "metadata": {},
     "output_type": "execute_result"
    }
   ],
   "source": [
    "#Viewing the first 2 rows of the dataset\n",
    "df.head(2)"
   ]
  },
  {
   "cell_type": "code",
   "execution_count": 9,
   "id": "a63e01db",
   "metadata": {},
   "outputs": [
    {
     "data": {
      "text/plain": [
       "Investigation.Type            0\n",
       "Accident.Number               0\n",
       "Event.Date                    0\n",
       "Location                      0\n",
       "Country                     226\n",
       "Latitude                  54507\n",
       "Longitude                 54516\n",
       "Airport.Code              38640\n",
       "Airport.Name              36099\n",
       "Injury.Severity            1000\n",
       "Aircraft.damage            3194\n",
       "Aircraft.Category         56602\n",
       "Registration.Number        1317\n",
       "Make                         63\n",
       "Model                        92\n",
       "Amateur.Built               102\n",
       "Number.of.Engines          6084\n",
       "Engine.Type                7077\n",
       "FAR.Description           56866\n",
       "Schedule                  76307\n",
       "Purpose.of.flight          6192\n",
       "Air.carrier               72241\n",
       "Total.Fatal.Injuries      11401\n",
       "Total.Serious.Injuries    12510\n",
       "Total.Minor.Injuries      11933\n",
       "Total.Uninjured            5912\n",
       "Weather.Condition          4492\n",
       "Broad.phase.of.flight     27165\n",
       "Report.Status              6381\n",
       "Publication.Date          13771\n",
       "dtype: int64"
      ]
     },
     "execution_count": 9,
     "metadata": {},
     "output_type": "execute_result"
    }
   ],
   "source": [
    "#Using Mode to fill in the 52 missing values in the Location Column\n",
    "df['Location'].fillna(df['Location'].mode()[0], inplace= True)\n",
    "df.isna().sum()"
   ]
  },
  {
   "cell_type": "code",
   "execution_count": 10,
   "id": "16d5399d",
   "metadata": {},
   "outputs": [
    {
     "data": {
      "text/plain": [
       "Investigation.Type            0\n",
       "Accident.Number               0\n",
       "Event.Date                    0\n",
       "Location                      0\n",
       "Country                       0\n",
       "Latitude                  54507\n",
       "Longitude                 54516\n",
       "Airport.Code              38640\n",
       "Airport.Name              36099\n",
       "Injury.Severity            1000\n",
       "Aircraft.damage            3194\n",
       "Aircraft.Category         56602\n",
       "Registration.Number        1317\n",
       "Make                         63\n",
       "Model                        92\n",
       "Amateur.Built               102\n",
       "Number.of.Engines          6084\n",
       "Engine.Type                7077\n",
       "FAR.Description           56866\n",
       "Schedule                  76307\n",
       "Purpose.of.flight          6192\n",
       "Air.carrier               72241\n",
       "Total.Fatal.Injuries      11401\n",
       "Total.Serious.Injuries    12510\n",
       "Total.Minor.Injuries      11933\n",
       "Total.Uninjured            5912\n",
       "Weather.Condition          4492\n",
       "Broad.phase.of.flight     27165\n",
       "Report.Status              6381\n",
       "Publication.Date          13771\n",
       "dtype: int64"
      ]
     },
     "execution_count": 10,
     "metadata": {},
     "output_type": "execute_result"
    }
   ],
   "source": [
    "# Using Mode to fill the missing values from the Country column\n",
    "df['Country'].fillna(df['Country'].mode()[0], inplace=True)\n",
    "df.isna().sum()"
   ]
  },
  {
   "cell_type": "markdown",
   "id": "e132e043",
   "metadata": {},
   "source": [
    "The next step is to deal with Latitude and Longitude colums in the Aviation Data set. Since the missig values are over 60%, it is justifiable I drop the columns. \n",
    "The columns are also not crucial for determining aircraft safety."
   ]
  },
  {
   "cell_type": "code",
   "execution_count": 11,
   "id": "32a72ab7",
   "metadata": {},
   "outputs": [
    {
     "data": {
      "text/plain": [
       "Investigation.Type            0\n",
       "Accident.Number               0\n",
       "Event.Date                    0\n",
       "Location                      0\n",
       "Country                       0\n",
       "Airport.Code              38640\n",
       "Airport.Name              36099\n",
       "Injury.Severity            1000\n",
       "Aircraft.damage            3194\n",
       "Aircraft.Category         56602\n",
       "Registration.Number        1317\n",
       "Make                         63\n",
       "Model                        92\n",
       "Amateur.Built               102\n",
       "Number.of.Engines          6084\n",
       "Engine.Type                7077\n",
       "FAR.Description           56866\n",
       "Schedule                  76307\n",
       "Purpose.of.flight          6192\n",
       "Air.carrier               72241\n",
       "Total.Fatal.Injuries      11401\n",
       "Total.Serious.Injuries    12510\n",
       "Total.Minor.Injuries      11933\n",
       "Total.Uninjured            5912\n",
       "Weather.Condition          4492\n",
       "Broad.phase.of.flight     27165\n",
       "Report.Status              6381\n",
       "Publication.Date          13771\n",
       "dtype: int64"
      ]
     },
     "execution_count": 11,
     "metadata": {},
     "output_type": "execute_result"
    }
   ],
   "source": [
    "df.drop(['Latitude', 'Longitude'], axis=1, inplace=True)\n",
    "df.isna().sum()\n"
   ]
  },
  {
   "cell_type": "markdown",
   "id": "3e4c4d56",
   "metadata": {},
   "source": [
    "As for Airport code and Airport name, the missing values are over 43% of the total records.\n",
    "Data not significant to get useful insights. \n",
    "These columns are not really helpful in my quest of determining aircraft safety."
   ]
  },
  {
   "cell_type": "code",
   "execution_count": 12,
   "id": "8b317bad",
   "metadata": {},
   "outputs": [
    {
     "data": {
      "text/plain": [
       "Investigation.Type            0\n",
       "Accident.Number               0\n",
       "Event.Date                    0\n",
       "Location                      0\n",
       "Country                       0\n",
       "Injury.Severity            1000\n",
       "Aircraft.damage            3194\n",
       "Aircraft.Category         56602\n",
       "Registration.Number        1317\n",
       "Make                         63\n",
       "Model                        92\n",
       "Amateur.Built               102\n",
       "Number.of.Engines          6084\n",
       "Engine.Type                7077\n",
       "FAR.Description           56866\n",
       "Schedule                  76307\n",
       "Purpose.of.flight          6192\n",
       "Air.carrier               72241\n",
       "Total.Fatal.Injuries      11401\n",
       "Total.Serious.Injuries    12510\n",
       "Total.Minor.Injuries      11933\n",
       "Total.Uninjured            5912\n",
       "Weather.Condition          4492\n",
       "Broad.phase.of.flight     27165\n",
       "Report.Status              6381\n",
       "Publication.Date          13771\n",
       "dtype: int64"
      ]
     },
     "execution_count": 12,
     "metadata": {},
     "output_type": "execute_result"
    }
   ],
   "source": [
    "# Dropping the Airport Code and Airport Name columns as they are not useful for analysis\n",
    "df.drop(['Airport.Code', 'Airport.Name'], axis=1, inplace=True)\n",
    "df.isna().sum()"
   ]
  },
  {
   "cell_type": "markdown",
   "id": "55121e7e",
   "metadata": {},
   "source": [
    "For the Injury.Severity column, we have approximately 1.1% of the values missing. I will keep this column and instead fill in missing values with \"Unknown\" as it's critical for risk classification"
   ]
  },
  {
   "cell_type": "code",
   "execution_count": 13,
   "id": "fe6d4a7f",
   "metadata": {},
   "outputs": [
    {
     "data": {
      "text/plain": [
       "Investigation.Type            0\n",
       "Accident.Number               0\n",
       "Event.Date                    0\n",
       "Location                      0\n",
       "Country                       0\n",
       "Injury.Severity               0\n",
       "Aircraft.damage            3194\n",
       "Aircraft.Category         56602\n",
       "Registration.Number        1317\n",
       "Make                         63\n",
       "Model                        92\n",
       "Amateur.Built               102\n",
       "Number.of.Engines          6084\n",
       "Engine.Type                7077\n",
       "FAR.Description           56866\n",
       "Schedule                  76307\n",
       "Purpose.of.flight          6192\n",
       "Air.carrier               72241\n",
       "Total.Fatal.Injuries      11401\n",
       "Total.Serious.Injuries    12510\n",
       "Total.Minor.Injuries      11933\n",
       "Total.Uninjured            5912\n",
       "Weather.Condition          4492\n",
       "Broad.phase.of.flight     27165\n",
       "Report.Status              6381\n",
       "Publication.Date          13771\n",
       "dtype: int64"
      ]
     },
     "execution_count": 13,
     "metadata": {},
     "output_type": "execute_result"
    }
   ],
   "source": [
    "# Filling the missing values in the Injury.Severity column with 'Unknown'\n",
    "df['Injury.Severity'].fillna('Unknown', inplace=True)\n",
    "df.isna().sum()\n"
   ]
  },
  {
   "cell_type": "markdown",
   "id": "66ade564",
   "metadata": {},
   "source": [
    "I will employ the same logic for the Aircraft.damage column as it has approximate 3.6% missing values.\n"
   ]
  },
  {
   "cell_type": "code",
   "execution_count": 14,
   "id": "caf37540",
   "metadata": {},
   "outputs": [
    {
     "data": {
      "text/plain": [
       "Investigation.Type            0\n",
       "Accident.Number               0\n",
       "Event.Date                    0\n",
       "Location                      0\n",
       "Country                       0\n",
       "Injury.Severity               0\n",
       "Aircraft.damage               0\n",
       "Aircraft.Category         56602\n",
       "Registration.Number        1317\n",
       "Make                         63\n",
       "Model                        92\n",
       "Amateur.Built               102\n",
       "Number.of.Engines          6084\n",
       "Engine.Type                7077\n",
       "FAR.Description           56866\n",
       "Schedule                  76307\n",
       "Purpose.of.flight          6192\n",
       "Air.carrier               72241\n",
       "Total.Fatal.Injuries      11401\n",
       "Total.Serious.Injuries    12510\n",
       "Total.Minor.Injuries      11933\n",
       "Total.Uninjured            5912\n",
       "Weather.Condition          4492\n",
       "Broad.phase.of.flight     27165\n",
       "Report.Status              6381\n",
       "Publication.Date          13771\n",
       "dtype: int64"
      ]
     },
     "execution_count": 14,
     "metadata": {},
     "output_type": "execute_result"
    }
   ],
   "source": [
    "# Filling the missing values in the Aircraft.damage column with 'Unknown'\n",
    "df['Aircraft.damage'].fillna('Unknown', inplace=True)\n",
    "df.isna().sum()"
   ]
  },
  {
   "cell_type": "markdown",
   "id": "63729399",
   "metadata": {},
   "source": [
    "For the Aircraft.Category column, approximately 64% of the figures are missing. however, this column cannot be dropped despite the missing values being too high to impute reliably. I will keep the column but replace missing values with 'Unknown' for now."
   ]
  },
  {
   "cell_type": "code",
   "execution_count": 15,
   "id": "1135044e",
   "metadata": {},
   "outputs": [
    {
     "data": {
      "text/plain": [
       "Investigation.Type            0\n",
       "Accident.Number               0\n",
       "Event.Date                    0\n",
       "Location                      0\n",
       "Country                       0\n",
       "Injury.Severity               0\n",
       "Aircraft.damage               0\n",
       "Aircraft.Category             0\n",
       "Registration.Number        1317\n",
       "Make                         63\n",
       "Model                        92\n",
       "Amateur.Built               102\n",
       "Number.of.Engines          6084\n",
       "Engine.Type                7077\n",
       "FAR.Description           56866\n",
       "Schedule                  76307\n",
       "Purpose.of.flight          6192\n",
       "Air.carrier               72241\n",
       "Total.Fatal.Injuries      11401\n",
       "Total.Serious.Injuries    12510\n",
       "Total.Minor.Injuries      11933\n",
       "Total.Uninjured            5912\n",
       "Weather.Condition          4492\n",
       "Broad.phase.of.flight     27165\n",
       "Report.Status              6381\n",
       "Publication.Date          13771\n",
       "dtype: int64"
      ]
     },
     "execution_count": 15,
     "metadata": {},
     "output_type": "execute_result"
    }
   ],
   "source": [
    "# Filling the missing values in the Aircraft.damage column with 'Unknown'\n",
    "df['Aircraft.Category'].fillna('Unknown', inplace=True)\n",
    "df.isna().sum()"
   ]
  },
  {
   "cell_type": "markdown",
   "id": "6c99b99e",
   "metadata": {},
   "source": [
    "Since I will be analyzing risk by make, the registration number will not be as crucial for my analysis. I will fill the missing values with unknown once again"
   ]
  },
  {
   "cell_type": "code",
   "execution_count": 16,
   "id": "86cad28a",
   "metadata": {},
   "outputs": [
    {
     "data": {
      "text/plain": [
       "Investigation.Type            0\n",
       "Accident.Number               0\n",
       "Event.Date                    0\n",
       "Location                      0\n",
       "Country                       0\n",
       "Injury.Severity               0\n",
       "Aircraft.damage               0\n",
       "Aircraft.Category             0\n",
       "Registration.Number           0\n",
       "Make                         63\n",
       "Model                        92\n",
       "Amateur.Built               102\n",
       "Number.of.Engines          6084\n",
       "Engine.Type                7077\n",
       "FAR.Description           56866\n",
       "Schedule                  76307\n",
       "Purpose.of.flight          6192\n",
       "Air.carrier               72241\n",
       "Total.Fatal.Injuries      11401\n",
       "Total.Serious.Injuries    12510\n",
       "Total.Minor.Injuries      11933\n",
       "Total.Uninjured            5912\n",
       "Weather.Condition          4492\n",
       "Broad.phase.of.flight     27165\n",
       "Report.Status              6381\n",
       "Publication.Date          13771\n",
       "dtype: int64"
      ]
     },
     "execution_count": 16,
     "metadata": {},
     "output_type": "execute_result"
    }
   ],
   "source": [
    "# Filling the missing values in the Registration.Number column with 'Unknown'\n",
    "df['Registration.Number'].fillna('Unknown', inplace=True)\n",
    "df.isna().sum()"
   ]
  },
  {
   "cell_type": "markdown",
   "id": "be6f8211",
   "metadata": {},
   "source": [
    "The Make and Model columns are the backbone of this project so I need to be careful on how I deal with them. The missing values are under 1% so I will drop the rows with missing values for both. This will be a negligible data loss."
   ]
  },
  {
   "cell_type": "code",
   "execution_count": 17,
   "id": "7236c415",
   "metadata": {},
   "outputs": [
    {
     "data": {
      "text/plain": [
       "Investigation.Type            0\n",
       "Accident.Number               0\n",
       "Event.Date                    0\n",
       "Location                      0\n",
       "Country                       0\n",
       "Injury.Severity               0\n",
       "Aircraft.damage               0\n",
       "Aircraft.Category             0\n",
       "Registration.Number           0\n",
       "Make                          0\n",
       "Model                         0\n",
       "Amateur.Built                99\n",
       "Number.of.Engines          6023\n",
       "Engine.Type                7006\n",
       "FAR.Description           56841\n",
       "Schedule                  76245\n",
       "Purpose.of.flight          6138\n",
       "Air.carrier               72168\n",
       "Total.Fatal.Injuries      11386\n",
       "Total.Serious.Injuries    12490\n",
       "Total.Minor.Injuries      11914\n",
       "Total.Uninjured            5897\n",
       "Weather.Condition          4439\n",
       "Broad.phase.of.flight     27094\n",
       "Report.Status              6335\n",
       "Publication.Date          13765\n",
       "dtype: int64"
      ]
     },
     "execution_count": 17,
     "metadata": {},
     "output_type": "execute_result"
    }
   ],
   "source": [
    "# Dropping rows with missing values in the 'Make' and 'Model' columns\n",
    "df.dropna(subset=['Make', 'Model'], inplace=True)\n",
    "df.isna().sum()"
   ]
  },
  {
   "cell_type": "markdown",
   "id": "d2033a53",
   "metadata": {},
   "source": [
    "I will fill the missing values in Amateur.Built column with 'Unknown'"
   ]
  },
  {
   "cell_type": "code",
   "execution_count": 18,
   "id": "86749182",
   "metadata": {},
   "outputs": [
    {
     "data": {
      "text/plain": [
       "Investigation.Type            0\n",
       "Accident.Number               0\n",
       "Event.Date                    0\n",
       "Location                      0\n",
       "Country                       0\n",
       "Injury.Severity               0\n",
       "Aircraft.damage               0\n",
       "Aircraft.Category             0\n",
       "Registration.Number           0\n",
       "Make                          0\n",
       "Model                         0\n",
       "Amateur.Built                 0\n",
       "Number.of.Engines          6023\n",
       "Engine.Type                7006\n",
       "FAR.Description           56841\n",
       "Schedule                  76245\n",
       "Purpose.of.flight          6138\n",
       "Air.carrier               72168\n",
       "Total.Fatal.Injuries      11386\n",
       "Total.Serious.Injuries    12490\n",
       "Total.Minor.Injuries      11914\n",
       "Total.Uninjured            5897\n",
       "Weather.Condition          4439\n",
       "Broad.phase.of.flight     27094\n",
       "Report.Status              6335\n",
       "Publication.Date          13765\n",
       "dtype: int64"
      ]
     },
     "execution_count": 18,
     "metadata": {},
     "output_type": "execute_result"
    }
   ],
   "source": [
    "# Filling the missing values in the Amateur.Built column with 'Unknown'\n",
    "df['Amateur.Built'] = df['Amateur.Built'].fillna('Unknown')\n",
    "df.isna().sum()\n"
   ]
  },
  {
   "cell_type": "markdown",
   "id": "cb84f8d8",
   "metadata": {},
   "source": [
    "For the Number.of.Engines column, I will use mode to fill the missing values. This is a reasonable option to prevent massive data loss"
   ]
  },
  {
   "cell_type": "code",
   "execution_count": 19,
   "id": "60ed05ab",
   "metadata": {},
   "outputs": [
    {
     "data": {
      "text/plain": [
       "Investigation.Type            0\n",
       "Accident.Number               0\n",
       "Event.Date                    0\n",
       "Location                      0\n",
       "Country                       0\n",
       "Injury.Severity               0\n",
       "Aircraft.damage               0\n",
       "Aircraft.Category             0\n",
       "Registration.Number           0\n",
       "Make                          0\n",
       "Model                         0\n",
       "Amateur.Built                 0\n",
       "Number.of.Engines             0\n",
       "Engine.Type                7006\n",
       "FAR.Description           56841\n",
       "Schedule                  76245\n",
       "Purpose.of.flight          6138\n",
       "Air.carrier               72168\n",
       "Total.Fatal.Injuries      11386\n",
       "Total.Serious.Injuries    12490\n",
       "Total.Minor.Injuries      11914\n",
       "Total.Uninjured            5897\n",
       "Weather.Condition          4439\n",
       "Broad.phase.of.flight     27094\n",
       "Report.Status              6335\n",
       "Publication.Date          13765\n",
       "dtype: int64"
      ]
     },
     "execution_count": 19,
     "metadata": {},
     "output_type": "execute_result"
    }
   ],
   "source": [
    "# Filling the missing values in the Number.of.Engines column with the mode\n",
    "df['Number.of.Engines'].fillna(df['Number.of.Engines'].mode()[0], inplace=True)\n",
    "df.isna().sum()"
   ]
  },
  {
   "cell_type": "markdown",
   "id": "cf0baeee",
   "metadata": {},
   "source": [
    "For the Engine.Type column, I will fill the missing values with 'Unknown' to prevent bias or losing too much data."
   ]
  },
  {
   "cell_type": "code",
   "execution_count": 20,
   "id": "bac54423",
   "metadata": {},
   "outputs": [
    {
     "data": {
      "text/plain": [
       "Investigation.Type            0\n",
       "Accident.Number               0\n",
       "Event.Date                    0\n",
       "Location                      0\n",
       "Country                       0\n",
       "Injury.Severity               0\n",
       "Aircraft.damage               0\n",
       "Aircraft.Category             0\n",
       "Registration.Number           0\n",
       "Make                          0\n",
       "Model                         0\n",
       "Amateur.Built                 0\n",
       "Number.of.Engines             0\n",
       "Engine.Type                   0\n",
       "FAR.Description           56841\n",
       "Schedule                  76245\n",
       "Purpose.of.flight          6138\n",
       "Air.carrier               72168\n",
       "Total.Fatal.Injuries      11386\n",
       "Total.Serious.Injuries    12490\n",
       "Total.Minor.Injuries      11914\n",
       "Total.Uninjured            5897\n",
       "Weather.Condition          4439\n",
       "Broad.phase.of.flight     27094\n",
       "Report.Status              6335\n",
       "Publication.Date          13765\n",
       "dtype: int64"
      ]
     },
     "execution_count": 20,
     "metadata": {},
     "output_type": "execute_result"
    }
   ],
   "source": [
    "# Filling the missing values in the Engine.Type column with 'Unknown'\n",
    "df['Engine.Type'].fillna('Unknown', inplace=True)\n",
    "df.isna().sum()"
   ]
  },
  {
   "cell_type": "code",
   "execution_count": 21,
   "id": "9d7f9a04",
   "metadata": {},
   "outputs": [
    {
     "data": {
      "text/plain": [
       "Investigation.Type            0\n",
       "Accident.Number               0\n",
       "Event.Date                    0\n",
       "Location                      0\n",
       "Country                       0\n",
       "Injury.Severity               0\n",
       "Aircraft.damage               0\n",
       "Aircraft.Category             0\n",
       "Registration.Number           0\n",
       "Make                          0\n",
       "Model                         0\n",
       "Amateur.Built                 0\n",
       "Number.of.Engines             0\n",
       "Engine.Type                   0\n",
       "FAR.Description               0\n",
       "Schedule                  76245\n",
       "Purpose.of.flight          6138\n",
       "Air.carrier               72168\n",
       "Total.Fatal.Injuries      11386\n",
       "Total.Serious.Injuries    12490\n",
       "Total.Minor.Injuries      11914\n",
       "Total.Uninjured            5897\n",
       "Weather.Condition          4439\n",
       "Broad.phase.of.flight     27094\n",
       "Report.Status              6335\n",
       "Publication.Date          13765\n",
       "dtype: int64"
      ]
     },
     "execution_count": 21,
     "metadata": {},
     "output_type": "execute_result"
    }
   ],
   "source": [
    "# Filling the missing values in the FAR.Description column with 'Unknown'\n",
    "df['FAR.Description'].fillna('Unknown', inplace=True)\n",
    "df.isna().sum()\n"
   ]
  },
  {
   "cell_type": "markdown",
   "id": "6e080a54",
   "metadata": {},
   "source": [
    "As for the Schedule column, it is too incomplete to be a reliable safety indicator. I will drop the entire column"
   ]
  },
  {
   "cell_type": "code",
   "execution_count": 22,
   "id": "c386f173",
   "metadata": {},
   "outputs": [
    {
     "data": {
      "text/plain": [
       "Investigation.Type            0\n",
       "Accident.Number               0\n",
       "Event.Date                    0\n",
       "Location                      0\n",
       "Country                       0\n",
       "Injury.Severity               0\n",
       "Aircraft.damage               0\n",
       "Aircraft.Category             0\n",
       "Registration.Number           0\n",
       "Make                          0\n",
       "Model                         0\n",
       "Amateur.Built                 0\n",
       "Number.of.Engines             0\n",
       "Engine.Type                   0\n",
       "FAR.Description               0\n",
       "Purpose.of.flight          6138\n",
       "Air.carrier               72168\n",
       "Total.Fatal.Injuries      11386\n",
       "Total.Serious.Injuries    12490\n",
       "Total.Minor.Injuries      11914\n",
       "Total.Uninjured            5897\n",
       "Weather.Condition          4439\n",
       "Broad.phase.of.flight     27094\n",
       "Report.Status              6335\n",
       "Publication.Date          13765\n",
       "dtype: int64"
      ]
     },
     "execution_count": 22,
     "metadata": {},
     "output_type": "execute_result"
    }
   ],
   "source": [
    "# Dropping the Schedule column as it has too many missing values\n",
    "df.drop(['Schedule'], axis=1, inplace=True)\n",
    "df.isna().sum()"
   ]
  },
  {
   "cell_type": "markdown",
   "id": "ef048eca",
   "metadata": {},
   "source": [
    "I want to keep the Purpose.of.flight column as it tells us why the flight was flying. Will replace missing values with 'Unknown'"
   ]
  },
  {
   "cell_type": "code",
   "execution_count": 23,
   "id": "e748f388",
   "metadata": {},
   "outputs": [
    {
     "data": {
      "text/plain": [
       "Investigation.Type            0\n",
       "Accident.Number               0\n",
       "Event.Date                    0\n",
       "Location                      0\n",
       "Country                       0\n",
       "Injury.Severity               0\n",
       "Aircraft.damage               0\n",
       "Aircraft.Category             0\n",
       "Registration.Number           0\n",
       "Make                          0\n",
       "Model                         0\n",
       "Amateur.Built                 0\n",
       "Number.of.Engines             0\n",
       "Engine.Type                   0\n",
       "FAR.Description               0\n",
       "Purpose.of.flight             0\n",
       "Air.carrier               72168\n",
       "Total.Fatal.Injuries      11386\n",
       "Total.Serious.Injuries    12490\n",
       "Total.Minor.Injuries      11914\n",
       "Total.Uninjured            5897\n",
       "Weather.Condition          4439\n",
       "Broad.phase.of.flight     27094\n",
       "Report.Status              6335\n",
       "Publication.Date          13765\n",
       "dtype: int64"
      ]
     },
     "execution_count": 23,
     "metadata": {},
     "output_type": "execute_result"
    }
   ],
   "source": [
    "# Filling the missing values in the Purpose.of.flight column with 'Unknown'\n",
    "df['Purpose.of.flight'].fillna('Unknown', inplace=True)\n",
    "df.isna().sum()"
   ]
  },
  {
   "cell_type": "markdown",
   "id": "7ad89da8",
   "metadata": {},
   "source": [
    "The Air.carrier column has so much data missing. It is not relevant to the aircraft business problem so I will drop it"
   ]
  },
  {
   "cell_type": "code",
   "execution_count": 24,
   "id": "80c546b2",
   "metadata": {},
   "outputs": [
    {
     "data": {
      "text/plain": [
       "Investigation.Type            0\n",
       "Accident.Number               0\n",
       "Event.Date                    0\n",
       "Location                      0\n",
       "Country                       0\n",
       "Injury.Severity               0\n",
       "Aircraft.damage               0\n",
       "Aircraft.Category             0\n",
       "Registration.Number           0\n",
       "Make                          0\n",
       "Model                         0\n",
       "Amateur.Built                 0\n",
       "Number.of.Engines             0\n",
       "Engine.Type                   0\n",
       "FAR.Description               0\n",
       "Purpose.of.flight             0\n",
       "Total.Fatal.Injuries      11386\n",
       "Total.Serious.Injuries    12490\n",
       "Total.Minor.Injuries      11914\n",
       "Total.Uninjured            5897\n",
       "Weather.Condition          4439\n",
       "Broad.phase.of.flight     27094\n",
       "Report.Status              6335\n",
       "Publication.Date          13765\n",
       "dtype: int64"
      ]
     },
     "execution_count": 24,
     "metadata": {},
     "output_type": "execute_result"
    }
   ],
   "source": [
    "# Dropping the Air.carrier column as it has too many missing values\n",
    "df.drop(['Air.carrier'], axis=1, inplace=True)\n",
    "df.isna().sum()"
   ]
  },
  {
   "cell_type": "markdown",
   "id": "f99c91e9",
   "metadata": {},
   "source": [
    "The common understanding is that if the fatalities are missing, then there were no fatalities. I will proceed to replace the missing values with zero."
   ]
  },
  {
   "cell_type": "code",
   "execution_count": 25,
   "id": "eac72ce7",
   "metadata": {},
   "outputs": [
    {
     "data": {
      "text/plain": [
       "Investigation.Type            0\n",
       "Accident.Number               0\n",
       "Event.Date                    0\n",
       "Location                      0\n",
       "Country                       0\n",
       "Injury.Severity               0\n",
       "Aircraft.damage               0\n",
       "Aircraft.Category             0\n",
       "Registration.Number           0\n",
       "Make                          0\n",
       "Model                         0\n",
       "Amateur.Built                 0\n",
       "Number.of.Engines             0\n",
       "Engine.Type                   0\n",
       "FAR.Description               0\n",
       "Purpose.of.flight             0\n",
       "Total.Fatal.Injuries          0\n",
       "Total.Serious.Injuries    12490\n",
       "Total.Minor.Injuries      11914\n",
       "Total.Uninjured            5897\n",
       "Weather.Condition          4439\n",
       "Broad.phase.of.flight     27094\n",
       "Report.Status              6335\n",
       "Publication.Date          13765\n",
       "dtype: int64"
      ]
     },
     "execution_count": 25,
     "metadata": {},
     "output_type": "execute_result"
    }
   ],
   "source": [
    "# Filling the missing values in the Total.Fatal.Injuries column with 0\n",
    "df['Total.Fatal.Injuries'].fillna(0, inplace=True)\n",
    "df.isna().sum()"
   ]
  },
  {
   "cell_type": "markdown",
   "id": "df74725b",
   "metadata": {},
   "source": [
    "For Total.Serious.Injuries colum, I will apply the above logic by filling with zero."
   ]
  },
  {
   "cell_type": "code",
   "execution_count": 26,
   "id": "620a5f18",
   "metadata": {},
   "outputs": [
    {
     "data": {
      "text/plain": [
       "Investigation.Type            0\n",
       "Accident.Number               0\n",
       "Event.Date                    0\n",
       "Location                      0\n",
       "Country                       0\n",
       "Injury.Severity               0\n",
       "Aircraft.damage               0\n",
       "Aircraft.Category             0\n",
       "Registration.Number           0\n",
       "Make                          0\n",
       "Model                         0\n",
       "Amateur.Built                 0\n",
       "Number.of.Engines             0\n",
       "Engine.Type                   0\n",
       "FAR.Description               0\n",
       "Purpose.of.flight             0\n",
       "Total.Fatal.Injuries          0\n",
       "Total.Serious.Injuries        0\n",
       "Total.Minor.Injuries      11914\n",
       "Total.Uninjured            5897\n",
       "Weather.Condition          4439\n",
       "Broad.phase.of.flight     27094\n",
       "Report.Status              6335\n",
       "Publication.Date          13765\n",
       "dtype: int64"
      ]
     },
     "execution_count": 26,
     "metadata": {},
     "output_type": "execute_result"
    }
   ],
   "source": [
    "# Filling the missing values in the Total.Serious.Injuries column with 0\n",
    "df['Total.Serious.Injuries'].fillna(0, inplace=True)\n",
    "df.isna().sum()"
   ]
  },
  {
   "cell_type": "code",
   "execution_count": 27,
   "id": "14120936",
   "metadata": {},
   "outputs": [
    {
     "data": {
      "text/plain": [
       "Investigation.Type            0\n",
       "Accident.Number               0\n",
       "Event.Date                    0\n",
       "Location                      0\n",
       "Country                       0\n",
       "Injury.Severity               0\n",
       "Aircraft.damage               0\n",
       "Aircraft.Category             0\n",
       "Registration.Number           0\n",
       "Make                          0\n",
       "Model                         0\n",
       "Amateur.Built                 0\n",
       "Number.of.Engines             0\n",
       "Engine.Type                   0\n",
       "FAR.Description               0\n",
       "Purpose.of.flight             0\n",
       "Total.Fatal.Injuries          0\n",
       "Total.Serious.Injuries        0\n",
       "Total.Minor.Injuries          0\n",
       "Total.Uninjured            5897\n",
       "Weather.Condition          4439\n",
       "Broad.phase.of.flight     27094\n",
       "Report.Status              6335\n",
       "Publication.Date          13765\n",
       "dtype: int64"
      ]
     },
     "execution_count": 27,
     "metadata": {},
     "output_type": "execute_result"
    }
   ],
   "source": [
    "# Filling the missing values in the Total.Minor.Injuries column with 0\n",
    "df['Total.Minor.Injuries'].fillna(0, inplace=True)\n",
    "df.isna().sum()"
   ]
  },
  {
   "cell_type": "code",
   "execution_count": 28,
   "id": "397064f2",
   "metadata": {},
   "outputs": [
    {
     "data": {
      "text/plain": [
       "Investigation.Type            0\n",
       "Accident.Number               0\n",
       "Event.Date                    0\n",
       "Location                      0\n",
       "Country                       0\n",
       "Injury.Severity               0\n",
       "Aircraft.damage               0\n",
       "Aircraft.Category             0\n",
       "Registration.Number           0\n",
       "Make                          0\n",
       "Model                         0\n",
       "Amateur.Built                 0\n",
       "Number.of.Engines             0\n",
       "Engine.Type                   0\n",
       "FAR.Description               0\n",
       "Purpose.of.flight             0\n",
       "Total.Fatal.Injuries          0\n",
       "Total.Serious.Injuries        0\n",
       "Total.Minor.Injuries          0\n",
       "Total.Uninjured               0\n",
       "Weather.Condition          4439\n",
       "Broad.phase.of.flight     27094\n",
       "Report.Status              6335\n",
       "Publication.Date          13765\n",
       "dtype: int64"
      ]
     },
     "execution_count": 28,
     "metadata": {},
     "output_type": "execute_result"
    }
   ],
   "source": [
    "# Filling the missing values in the Total.Uninjured column with 0\n",
    "df['Total.Uninjured'].fillna(0, inplace=True)\n",
    "df.isna().sum()"
   ]
  },
  {
   "cell_type": "markdown",
   "id": "2bea8576",
   "metadata": {},
   "source": [
    "To reduce bias, I will not use mode for standardizing the Weather.Condition column. Istead, I will fill missing values with 'Unknown'"
   ]
  },
  {
   "cell_type": "code",
   "execution_count": 29,
   "id": "8669e91c",
   "metadata": {},
   "outputs": [
    {
     "data": {
      "text/plain": [
       "Investigation.Type            0\n",
       "Accident.Number               0\n",
       "Event.Date                    0\n",
       "Location                      0\n",
       "Country                       0\n",
       "Injury.Severity               0\n",
       "Aircraft.damage               0\n",
       "Aircraft.Category             0\n",
       "Registration.Number           0\n",
       "Make                          0\n",
       "Model                         0\n",
       "Amateur.Built                 0\n",
       "Number.of.Engines             0\n",
       "Engine.Type                   0\n",
       "FAR.Description               0\n",
       "Purpose.of.flight             0\n",
       "Total.Fatal.Injuries          0\n",
       "Total.Serious.Injuries        0\n",
       "Total.Minor.Injuries          0\n",
       "Total.Uninjured               0\n",
       "Weather.Condition             0\n",
       "Broad.phase.of.flight     27094\n",
       "Report.Status              6335\n",
       "Publication.Date          13765\n",
       "dtype: int64"
      ]
     },
     "execution_count": 29,
     "metadata": {},
     "output_type": "execute_result"
    }
   ],
   "source": [
    "# Filling the missing values in the Weather.Condition column with 'Unknown'\n",
    "df['Weather.Condition'].fillna('Unknown', inplace=True)\n",
    "df.isna().sum()"
   ]
  },
  {
   "cell_type": "markdown",
   "id": "5e28f209",
   "metadata": {},
   "source": [
    "I will still keep the column and fill missing values with unknown. Useful in analyzing which phases of a flight are riskiest"
   ]
  },
  {
   "cell_type": "code",
   "execution_count": 30,
   "id": "d8ab3b70",
   "metadata": {},
   "outputs": [
    {
     "data": {
      "text/plain": [
       "Investigation.Type            0\n",
       "Accident.Number               0\n",
       "Event.Date                    0\n",
       "Location                      0\n",
       "Country                       0\n",
       "Injury.Severity               0\n",
       "Aircraft.damage               0\n",
       "Aircraft.Category             0\n",
       "Registration.Number           0\n",
       "Make                          0\n",
       "Model                         0\n",
       "Amateur.Built                 0\n",
       "Number.of.Engines             0\n",
       "Engine.Type                   0\n",
       "FAR.Description               0\n",
       "Purpose.of.flight             0\n",
       "Total.Fatal.Injuries          0\n",
       "Total.Serious.Injuries        0\n",
       "Total.Minor.Injuries          0\n",
       "Total.Uninjured               0\n",
       "Weather.Condition             0\n",
       "Broad.phase.of.flight         0\n",
       "Report.Status              6335\n",
       "Publication.Date          13765\n",
       "dtype: int64"
      ]
     },
     "execution_count": 30,
     "metadata": {},
     "output_type": "execute_result"
    }
   ],
   "source": [
    "# Filling the missing values in the Broad.phase.of.flight column with 'Unknown'\n",
    "df['Broad.phase.of.flight'].fillna('Unknown', inplace=True)\n",
    "df.isna().sum()"
   ]
  },
  {
   "cell_type": "markdown",
   "id": "a6300c59",
   "metadata": {},
   "source": [
    "For the purpose of this data, this column has no much relevance but i will keep it. Replacing missing values with 'Unknown'"
   ]
  },
  {
   "cell_type": "code",
   "execution_count": 31,
   "id": "952ef4f7",
   "metadata": {},
   "outputs": [
    {
     "data": {
      "text/plain": [
       "Investigation.Type            0\n",
       "Accident.Number               0\n",
       "Event.Date                    0\n",
       "Location                      0\n",
       "Country                       0\n",
       "Injury.Severity               0\n",
       "Aircraft.damage               0\n",
       "Aircraft.Category             0\n",
       "Registration.Number           0\n",
       "Make                          0\n",
       "Model                         0\n",
       "Amateur.Built                 0\n",
       "Number.of.Engines             0\n",
       "Engine.Type                   0\n",
       "FAR.Description               0\n",
       "Purpose.of.flight             0\n",
       "Total.Fatal.Injuries          0\n",
       "Total.Serious.Injuries        0\n",
       "Total.Minor.Injuries          0\n",
       "Total.Uninjured               0\n",
       "Weather.Condition             0\n",
       "Broad.phase.of.flight         0\n",
       "Report.Status                 0\n",
       "Publication.Date          13765\n",
       "dtype: int64"
      ]
     },
     "execution_count": 31,
     "metadata": {},
     "output_type": "execute_result"
    }
   ],
   "source": [
    "# Filling the missing values in the Report.Status column with 'Unknown'\n",
    "df['Report.Status'].fillna('Unknown', inplace=True)\n",
    "df.isna().sum()"
   ]
  },
  {
   "cell_type": "markdown",
   "id": "f7f42dbc",
   "metadata": {},
   "source": [
    "I will drop the Publication.Date column as it is not aligned with the business problem"
   ]
  },
  {
   "cell_type": "code",
   "execution_count": 32,
   "id": "02b66945",
   "metadata": {},
   "outputs": [
    {
     "data": {
      "text/plain": [
       "Investigation.Type        0\n",
       "Accident.Number           0\n",
       "Event.Date                0\n",
       "Location                  0\n",
       "Country                   0\n",
       "Injury.Severity           0\n",
       "Aircraft.damage           0\n",
       "Aircraft.Category         0\n",
       "Registration.Number       0\n",
       "Make                      0\n",
       "Model                     0\n",
       "Amateur.Built             0\n",
       "Number.of.Engines         0\n",
       "Engine.Type               0\n",
       "FAR.Description           0\n",
       "Purpose.of.flight         0\n",
       "Total.Fatal.Injuries      0\n",
       "Total.Serious.Injuries    0\n",
       "Total.Minor.Injuries      0\n",
       "Total.Uninjured           0\n",
       "Weather.Condition         0\n",
       "Broad.phase.of.flight     0\n",
       "Report.Status             0\n",
       "dtype: int64"
      ]
     },
     "execution_count": 32,
     "metadata": {},
     "output_type": "execute_result"
    }
   ],
   "source": [
    "# Dropping the Publication.Date column as it is not useful for analysis\n",
    "df.drop(['Publication.Date'], axis=1, inplace=True)\n",
    "df.isna().sum()"
   ]
  },
  {
   "cell_type": "code",
   "execution_count": 33,
   "id": "778d7ce3",
   "metadata": {},
   "outputs": [],
   "source": [
    "\n",
    "# Cleaning the 'Make' column to ensure consistency\n",
    "#Trying to make sure Tableau stops showing duplicate entries for the same make due to inconsistent formatting\n",
    "import unicodedata\n",
    "import re\n",
    "\n",
    "def deep_clean_string(s):\n",
    "    if isinstance(s, str):\n",
    "        s = s.replace('\\xa0', ' ')                 \n",
    "        s = unicodedata.normalize(\"NFKD\", s)         \n",
    "        s = re.sub(r'\\s+', ' ', s)                   \n",
    "        s = s.strip()                                \n",
    "        s = re.sub(r'[^\\w\\s.-]', '', s)              \n",
    "        s = s.title()\n",
    "        return s\n",
    "    return s\n",
    "\n",
    "# Apply to the 'Make' column\n",
    "df['Make'] = df['Make'].apply(deep_clean_string)\n",
    "\n"
   ]
  },
  {
   "cell_type": "code",
   "execution_count": 34,
   "id": "7dc76295",
   "metadata": {},
   "outputs": [
    {
     "name": "stdout",
     "output_type": "stream",
     "text": [
      "['Stinson' 'Piper' 'Cessna' ... 'James R Dernovsek' 'Orlican S R O'\n",
      " 'Royse Ralph L']\n"
     ]
    }
   ],
   "source": [
    "# Checking unique values in the 'Make' column to verify cleaning\n",
    "print(df['Make'].unique())\n"
   ]
  },
  {
   "cell_type": "code",
   "execution_count": 35,
   "id": "f91ccd46",
   "metadata": {},
   "outputs": [
    {
     "data": {
      "text/plain": [
       "array([\"'Stinson'\", \"'Piper'\", \"'Cessna'\", ..., \"'James R Dernovsek'\",\n",
       "       \"'Orlican S R O'\", \"'Royse Ralph L'\"], dtype=object)"
      ]
     },
     "execution_count": 35,
     "metadata": {},
     "output_type": "execute_result"
    }
   ],
   "source": [
    "#Checking unique values in the 'Make' column to verify cleaning once again\n",
    "df['Make'].apply(lambda x: repr(x)).unique()\n"
   ]
  },
  {
   "cell_type": "markdown",
   "id": "c1318a24",
   "metadata": {},
   "source": [
    "The first visualization is a bar chart to compare the total fatalities by make. I use the top 15 to enhance accuracy of the visualizations (I am trying not to over-trust aircrafts with few accidents). The chart shows the make with fewest accidents."
   ]
  },
  {
   "cell_type": "code",
   "execution_count": 36,
   "id": "1f1809df",
   "metadata": {},
   "outputs": [
    {
     "data": {
      "image/png": "[encoded data removed]",
      "text/plain": [
       "<Figure size 720x432 with 1 Axes>"
      ]
     },
     "metadata": {
      "needs_background": "light"
     },
     "output_type": "display_data"
    }
   ],
   "source": [
    "# Visualizing the total fatal injuries by aircraft make\n",
    "import matplotlib.pyplot as plt\n",
    "import seaborn as sns\n",
    "# Group by 'Make' and sum 'Total.Fatal.Injuries'\n",
    "Fatal_injuries_by_make = df.groupby('Make')['Total.Fatal.Injuries'].sum().sort_values(ascending=False)\n",
    "\n",
    "# Plot the top 15 makes to not trust makes with few accidents\n",
    "Fatal_injuries_by_make.head(15).plot(kind='bar', figsize=(10,6))\n",
    "plt.ylabel('Total Fatal Injuries')\n",
    "plt.xlabel('Make')\n",
    "plt.title('Total Fatal Injuries by Aircraft Make (Top 15)')\n",
    "plt.show()"
   ]
  },
  {
   "cell_type": "markdown",
   "id": "fd211743",
   "metadata": {},
   "source": [
    "The second barchart os just like the first one but goes a step deeper by using both make and model. Due to the increased number of selections, I will go with top 30 selections for this chart."
   ]
  },
  {
   "cell_type": "code",
   "execution_count": 37,
   "id": "923f4e02",
   "metadata": {},
   "outputs": [
    {
     "data": {
      "image/png": "[encoded data removed]",
      "text/plain": [
       "<Figure size 720x432 with 1 Axes>"
      ]
     },
     "metadata": {
      "needs_background": "light"
     },
     "output_type": "display_data"
    }
   ],
   "source": [
    "#Visualizing the total fatal injuries by aircraft make and model\n",
    "# Group by 'Make' and 'Model', then sum 'Total.Fatal.Injuries'\n",
    "Fatal_injuries_by_make_model = df.groupby(['Make', 'Model'])['Total.Fatal.Injuries'].sum().sort_values(ascending=False)\n",
    "\n",
    "# Display the top 30 (Make, Model) combinations with the most fatal injuries\n",
    "Fatal_injuries_by_make_model.head(30).plot(kind='bar', figsize=(10,6))\n",
    "plt.ylabel('Total Fatal Injuries')\n",
    "plt.xlabel('Make, Model')\n",
    "plt.title('Total Fatal Injuries by Aircraft Make and Model (Top 30)')\n",
    "plt.xticks(rotation=45, ha='right')\n",
    "plt.show()"
   ]
  },
  {
   "cell_type": "markdown",
   "id": "1d5e6717",
   "metadata": {},
   "source": [
    "The third visualization is a time series showing the trend of total fatal injuries over the years. This will help identify if there are any patterns or changes in fatal injuries over time. However, the 'Year' column is currently in string format, so I will convert it to datetime format for better handling of time series data. I picked top 3 make models with most accidents."
   ]
  },
  {
   "cell_type": "code",
   "execution_count": 38,
   "id": "b46c16a1",
   "metadata": {},
   "outputs": [
    {
     "data": {
      "image/png": "[encoded data removed]",
      "text/plain": [
       "<Figure size 720x432 with 1 Axes>"
      ]
     },
     "metadata": {
      "needs_background": "light"
     },
     "output_type": "display_data"
    }
   ],
   "source": [
    "#changing the Event.Date column to datetime format\n",
    "df['Year'] = pd.to_datetime(df['Event.Date']).dt.year\n",
    "\n",
    "accidents_by_year_make_model = df.groupby(['Year', 'Make', 'Model']).size().reset_index(name='Accident Count')\n",
    "\n",
    "# Plot trend for top 3 Make/Model combinations with most accidents\n",
    "top_make_models = (\n",
    "    accidents_by_year_make_model\n",
    "    .groupby(['Make', 'Model'])['Accident Count']\n",
    "    .sum()\n",
    "    .sort_values(ascending=False)\n",
    "    .head(3)\n",
    "    .index\n",
    ")\n",
    "\n",
    "plt.figure(figsize=(10, 6))\n",
    "for make, model in top_make_models:\n",
    "    subset = accidents_by_year_make_model[(accidents_by_year_make_model['Make'] == make) & (accidents_by_year_make_model['Model'] == model)]\n",
    "    plt.plot(subset['Year'], subset['Accident Count'], marker='o', label=f\"{make} {model}\")\n",
    "\n",
    "plt.xlabel('Year')\n",
    "plt.ylabel('Number of Accidents')\n",
    "plt.title('Accidents per Year by Top 3 Make/Model')\n",
    "plt.legend()\n",
    "plt.grid(True)\n",
    "plt.show()"
   ]
  },
  {
   "cell_type": "markdown",
   "id": "8d1ff195",
   "metadata": {},
   "source": [
    "This visualization is just like the previous one. I just substitute accidents per year with fatalities per year."
   ]
  },
  {
   "cell_type": "code",
   "execution_count": 39,
   "id": "57081a3e",
   "metadata": {},
   "outputs": [
    {
     "data": {
      "image/png": "[encoded data removed]",
      "text/plain": [
       "<Figure size 720x432 with 1 Axes>"
      ]
     },
     "metadata": {
      "needs_background": "light"
     },
     "output_type": "display_data"
    }
   ],
   "source": [
    "# Plot time series of fatalities per year for the top 3 make/model combinations\n",
    "plt.figure(figsize=(10, 6))\n",
    "for make, model in top_make_models:\n",
    "    subset = df[(df['Make'] == make) & (df['Model'] == model)]\n",
    "    fatalities_per_year = subset.groupby('Year')['Total.Fatal.Injuries'].sum()\n",
    "    plt.plot(fatalities_per_year.index, fatalities_per_year.values, marker='o', label=f\"{make} {model}\")\n",
    "\n",
    "plt.xlabel('Year')\n",
    "plt.ylabel('Total Fatal Injuries')\n",
    "plt.title('Fatalities per Year by Top 3 Make/Model')\n",
    "plt.legend()\n",
    "plt.grid(True)\n",
    "plt.show()"
   ]
  },
  {
   "cell_type": "markdown",
   "id": "5c4c1df6",
   "metadata": {},
   "source": [
    "The Cessnas apear in the top 3 because they have the highest accident counts. I will steer off this  make because while someone may argue their increased exposure is due to their high numbers, these accidents are too many to refer to the company as reliable."
   ]
  },
  {
   "cell_type": "code",
   "execution_count": 40,
   "id": "77df7351",
   "metadata": {},
   "outputs": [
    {
     "name": "stdout",
     "output_type": "stream",
     "text": [
      "<class 'pandas.core.frame.DataFrame'>\n",
      "Index: 88777 entries, 20001218X45444 to 20221230106513\n",
      "Data columns (total 24 columns):\n",
      " #   Column                  Non-Null Count  Dtype  \n",
      "---  ------                  --------------  -----  \n",
      " 0   Investigation.Type      88777 non-null  object \n",
      " 1   Accident.Number         88777 non-null  object \n",
      " 2   Event.Date              88777 non-null  object \n",
      " 3   Location                88777 non-null  object \n",
      " 4   Country                 88777 non-null  object \n",
      " 5   Injury.Severity         88777 non-null  object \n",
      " 6   Aircraft.damage         88777 non-null  object \n",
      " 7   Aircraft.Category       88777 non-null  object \n",
      " 8   Registration.Number     88777 non-null  object \n",
      " 9   Make                    88777 non-null  object \n",
      " 10  Model                   88777 non-null  object \n",
      " 11  Amateur.Built           88777 non-null  object \n",
      " 12  Number.of.Engines       88777 non-null  float64\n",
      " 13  Engine.Type             88777 non-null  object \n",
      " 14  FAR.Description         88777 non-null  object \n",
      " 15  Purpose.of.flight       88777 non-null  object \n",
      " 16  Total.Fatal.Injuries    88777 non-null  float64\n",
      " 17  Total.Serious.Injuries  88777 non-null  float64\n",
      " 18  Total.Minor.Injuries    88777 non-null  float64\n",
      " 19  Total.Uninjured         88777 non-null  float64\n",
      " 20  Weather.Condition       88777 non-null  object \n",
      " 21  Broad.phase.of.flight   88777 non-null  object \n",
      " 22  Report.Status           88777 non-null  object \n",
      " 23  Year                    88777 non-null  int64  \n",
      "dtypes: float64(5), int64(1), object(18)\n",
      "memory usage: 16.9+ MB\n"
     ]
    }
   ],
   "source": [
    "#Getting basic information about the dataset\n",
    "df.info()"
   ]
  },
  {
   "cell_type": "markdown",
   "id": "d0a1d0ac",
   "metadata": {},
   "source": [
    "In the next visualization I combine the make and model column to check the total uninjured for the top 30 combinations"
   ]
  },
  {
   "cell_type": "code",
   "execution_count": 41,
   "id": "1e3bfa54",
   "metadata": {},
   "outputs": [
    {
     "data": {
      "image/png": "[encoded data removed]",
      "text/plain": [
       "<Figure size 864x432 with 1 Axes>"
      ]
     },
     "metadata": {
      "needs_background": "light"
     },
     "output_type": "display_data"
    }
   ],
   "source": [
    "# Group by 'Make' and 'Model', sum 'Total.Uninjured', and sort descending\n",
    "uninjured_by_make_model = df.groupby(['Make', 'Model'])['Total.Uninjured'].sum().sort_values(ascending=False)\n",
    "\n",
    "# Plot the top 30 (Make, Model) combinations\n",
    "uninjured_by_make_model.head(30).plot(kind='bar', figsize=(12,6))\n",
    "plt.ylabel('Total Uninjured')\n",
    "plt.xlabel('Make, Model')\n",
    "plt.title('Total Uninjured by Aircraft Make and Model (Top 30)')\n",
    "plt.xticks(rotation=45, ha='right')\n",
    "plt.tight_layout()\n",
    "plt.show()"
   ]
  },
  {
   "cell_type": "markdown",
   "id": "8823b60d",
   "metadata": {},
   "source": [
    "I repeat the above step but by using the total minor injuries column"
   ]
  },
  {
   "cell_type": "code",
   "execution_count": 42,
   "id": "7a7fc754",
   "metadata": {},
   "outputs": [
    {
     "data": {
      "image/png": "[encoded data removed]",
      "text/plain": [
       "<Figure size 864x432 with 1 Axes>"
      ]
     },
     "metadata": {
      "needs_background": "light"
     },
     "output_type": "display_data"
    }
   ],
   "source": [
    "# Group by 'Make' and 'Model', sum 'Total.Minor.Injuries', and sort descending\n",
    "minor_injuries_by_make_model = df.groupby(['Make', 'Model'])['Total.Minor.Injuries'].sum().sort_values(ascending=False)\n",
    "\n",
    "# Plot the top 30 (Make, Model) combinations\n",
    "minor_injuries_by_make_model.head(30).plot(kind='bar', figsize=(12,6))\n",
    "plt.ylabel('Total Minor Injuries')\n",
    "plt.xlabel('Make, Model')\n",
    "plt.title('Total Minor Injuries by Aircraft Make and Model (Top 30)')\n",
    "plt.xticks(rotation=45, ha='right')\n",
    "plt.tight_layout()\n",
    "plt.show()"
   ]
  },
  {
   "cell_type": "code",
   "execution_count": 43,
   "id": "d6fca38b",
   "metadata": {
    "vscode": {
     "languageId": "ruby"
    }
   },
   "outputs": [
    {
     "data": {
      "image/png": "[encoded data removed]",
      "text/plain": [
       "<Figure size 720x432 with 1 Axes>"
      ]
     },
     "metadata": {
      "needs_background": "light"
     },
     "output_type": "display_data"
    }
   ],
   "source": [
    "# Filter accidents_by_year_make_model for Boeing\n",
    "boeing_accidents = accidents_by_year_make_model[accidents_by_year_make_model['Make'] == 'Boeing']\n",
    "\n",
    "# Group by year and sum the accident counts\n",
    "boeing_accidents_per_year = boeing_accidents.groupby('Year')['Accident Count'].sum()\n",
    "\n",
    "# Plot the time series\n",
    "plt.figure(figsize=(10, 6))\n",
    "plt.plot(boeing_accidents_per_year.index, boeing_accidents_per_year.values, marker='o')\n",
    "plt.xlabel('Year')\n",
    "plt.ylabel('Number of Accidents')\n",
    "plt.title('Boeing Accidents per Year')\n",
    "plt.grid(True)\n",
    "plt.show()"
   ]
  },
  {
   "cell_type": "code",
   "execution_count": 44,
   "id": "f19ffbf8",
   "metadata": {
    "vscode": {
     "languageId": "ruby"
    }
   },
   "outputs": [
    {
     "data": {
      "image/png": "[encoded data removed]",
      "text/plain": [
       "<Figure size 720x432 with 1 Axes>"
      ]
     },
     "metadata": {
      "needs_background": "light"
     },
     "output_type": "display_data"
    }
   ],
   "source": [
    "# Filter accidents_by_year_make_model for Airbus and Bell\n",
    "airbus_accidents = accidents_by_year_make_model[accidents_by_year_make_model['Make'] == 'Airbus']\n",
    "bell_accidents = accidents_by_year_make_model[accidents_by_year_make_model['Make'] == 'Bell']\n",
    "\n",
    "# Group by year and sum the accident counts\n",
    "airbus_accidents_per_year = airbus_accidents.groupby('Year')['Accident Count'].sum()\n",
    "bell_accidents_per_year = bell_accidents.groupby('Year')['Accident Count'].sum()\n",
    "\n",
    "# Plot the time series for both Airbus and Bell\n",
    "plt.figure(figsize=(10, 6))\n",
    "plt.plot(airbus_accidents_per_year.index, airbus_accidents_per_year.values, marker='o', label='Airbus')\n",
    "plt.plot(bell_accidents_per_year.index, bell_accidents_per_year.values, marker='o', label='Bell')\n",
    "plt.xlabel('Year')\n",
    "plt.ylabel('Number of Accidents')\n",
    "plt.title('Airbus and Bell Accidents per Year')\n",
    "plt.legend()\n",
    "plt.grid(True)\n",
    "plt.show()"
   ]
  },
  {
   "cell_type": "code",
   "execution_count": 46,
   "id": "445fdc46",
   "metadata": {},
   "outputs": [
    {
     "data": {
      "image/png": "[encoded data removed]",
      "text/plain": [
       "<Figure size 432x288 with 1 Axes>"
      ]
     },
     "metadata": {
      "needs_background": "light"
     },
     "output_type": "display_data"
    }
   ],
   "source": [
    "# Filter the DataFrame for only VMC and IMC weather conditions\n",
    "df_vmc_imc = df[df['Weather.Condition'].isin(['VMC', 'IMC'])]\n",
    "\n",
    "# Group by 'Weather.Condition' and sum 'Total.Fatal.Injuries'\n",
    "fatalities_by_weather_vmc_imc = df_vmc_imc.groupby('Weather.Condition')['Total.Fatal.Injuries'].sum().sort_values(ascending=False)\n",
    "\n",
    "# Plot the fatalities by weather condition (VMC and IMC only)\n",
    "plt.figure(figsize=(6,4))\n",
    "fatalities_by_weather_vmc_imc.plot(kind='bar')\n",
    "plt.ylabel('Total Fatal Injuries')\n",
    "plt.xlabel('Weather Condition')\n",
    "plt.title('Total Fatalities by Weather Condition (VMC & IMC)')\n",
    "plt.xticks(rotation=0)\n",
    "plt.tight_layout()\n",
    "plt.show()"
   ]
  }
 ],
 "metadata": {
  "kernelspec": {
   "display_name": "Python (learn-env)",
   "language": "python",
   "name": "learn-env"
  },
  "language_info": {
   "codemirror_mode": {
    "name": "ipython",
    "version": 3
   },
   "file_extension": ".py",
   "mimetype": "text/x-python",
   "name": "python",
   "nbconvert_exporter": "python",
   "pygments_lexer": "ipython3",
   "version": "3.8.5"
  }
 },
 "nbformat": 4,
 "nbformat_minor": 5
}
